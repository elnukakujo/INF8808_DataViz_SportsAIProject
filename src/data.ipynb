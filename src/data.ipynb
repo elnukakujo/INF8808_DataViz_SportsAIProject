{
 "cells": [
  {
   "cell_type": "code",
   "execution_count": 1,
   "metadata": {},
   "outputs": [],
   "source": [
    "import pandas as pd\n",
    "df_1=pd.read_excel('./assets/data/EURO_2020_DATA.xlsx',sheet_name=\"Match events\")\n",
    "df_2=pd.read_excel('./assets/data/EURO_2020_DATA.xlsx',sheet_name=\"Match information\")\n",
    "df_3=pd.read_excel('./assets/data/EURO_2020_DATA.xlsx',sheet_name=\"Players stats\")\n",
    "df_4=pd.read_excel('./assets/data/EURO_2020_DATA.xlsx',sheet_name=\"Match Stats\")\n",
    "df_5=pd.read_excel('./assets/data/EURO_2020_DATA.xlsx',sheet_name=\"Line-ups\")"
   ]
  },
  {
   "cell_type": "code",
   "execution_count": 2,
   "metadata": {},
   "outputs": [],
   "source": [
    "df_1.to_csv('./assets/data/EURO_2020_DATA_Match_events.csv',index=False)\n",
    "df_2.to_csv('./assets/data/EURO_2020_DATA_Match_information.csv',index=False)\n",
    "df_3.to_csv('./assets/data/EURO_2020_DATA_Players_stats.csv',index=False)\n",
    "df_4.to_csv('./assets/data/EURO_2020_DATA_Match_Stats.csv',index=False)\n",
    "df_5.to_csv('./assets/data/EURO_2020_DATA_Line-ups.csv',index=False)"
   ]
  }
 ],
 "metadata": {
  "kernelspec": {
   "display_name": "Python 3",
   "language": "python",
   "name": "python3"
  },
  "language_info": {
   "codemirror_mode": {
    "name": "ipython",
    "version": 3
   },
   "file_extension": ".py",
   "mimetype": "text/x-python",
   "name": "python",
   "nbconvert_exporter": "python",
   "pygments_lexer": "ipython3",
   "version": "3.10.12"
  }
 },
 "nbformat": 4,
 "nbformat_minor": 2
}
